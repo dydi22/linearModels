{
  "cells": [
    {
      "cell_type": "markdown",
      "id": "e0c7b14a-e5aa-4abc-b48b-b8a9d20dacac",
      "metadata": {
        "id": "e0c7b14a-e5aa-4abc-b48b-b8a9d20dacac"
      },
      "source": [
        "# Assignment: Linear Models\n",
        "## Do three questions.\n",
        "### `! git clone https://github.com/ds4e/linearModels`"
      ]
    },
    {
      "cell_type": "markdown",
      "id": "bf4826b0",
      "metadata": {
        "id": "bf4826b0"
      },
      "source": [
        "**Q1.** Please answer the following questions in your own words.\n",
        "\n",
        "1. What makes a model \"linear\"? \"Linear\" in what?\n",
        "2. How do you interpret the coefficient for a dummy/one-hot-encoded variable? (This is a trick question, and the trick involves how you handle the intercept of the model.)\n",
        "3. Can linear regression be used for classification? Explain why, or why not.\n",
        "4. What are signs that your linear model is over-fitting?\n",
        "5. Clearly explain multi-colinearity using the two-stage least squares technique.\n",
        "6. How can you incorporate nonlinear relationships between your target/response/dependent/outcome variable $y$ and your features/control/response/independent variables $x$ into your analysis?\n",
        "7. What is the interpretation of the intercept? A slope coefficient for a variable? The coefficient for a dummy/one-hot-encoded variable?"
      ]
    },
    {
      "cell_type": "markdown",
      "source": [
        "1. It is linear if it is linear in its prametrs. So the parameters aren't squared or multiplied with each other.\n",
        "2. The dummy variables cofficent represents the difference in outcome versus the baseline.\n",
        "3. I assume it could technically be used but it doesnt make much sense because the values from classifaction are either 1 or 0.\n",
        "4. When my model has a high accuracy on the training data but perfroms poorly on the test data.\n",
        "5. This occurs when two or more predictiors are highly corrolated, which makes it hard to understand their individual effects.\n",
        "6. We can capture non linear relationships by transforming our features. We could add cubic terms for example.\n",
        "7. The intercept is the value(\"starting point\") when all variables are euqal to 0. It tells us by how much the predicted value changes when the variable increases by 1. It shows the difference for the predicted value between two groups.  "
      ],
      "metadata": {
        "id": "ZKcOQIdfHzPN"
      },
      "id": "ZKcOQIdfHzPN"
    },
    {
      "cell_type": "markdown",
      "id": "25bf83c6-ff44-42d6-9b33-8be1b945860d",
      "metadata": {
        "id": "25bf83c6-ff44-42d6-9b33-8be1b945860d"
      },
      "source": [
        "**Q2.** Load `./data/Q1_clean.csv`. The data include\n",
        "\n",
        "- `Price` per night\n",
        "- `Review Scores Rating`: The average rating for the property\n",
        "- `Neighbourhood `: The bourough of NYC. Note the space, or rename the variable.\n",
        "- `Property Type`: The kind of dwelling\n",
        "- `Room Type`: The kind of space being rented\n",
        "\n",
        "1. Compute the average prices and scores by `Neighbourhood `; which bourough is the most expensive on average? Create a kernel density plot of price and log price, grouping by `Neighbourhood `.\n",
        "2. Regress price on `Neighbourhood ` by creating the appropriate dummy/one-hot-encoded variables, without an intercept in the linear model and using all the data. Compare the coefficients in the regression to the table from part 1. What pattern do you see? What are the coefficients in a regression of a continuous variable on one categorical variable?\n",
        "3. Repeat part 2, but leave an intercept in the linear model. How do you have to handle the creation of the dummies differently? What is the intercept? Interpret the coefficients. How can I get the coefficients in part 2 from these new coefficients?\n",
        "4. Split the sample 80/20 into a training and a test set. Run a regression of `Price` on `Review Scores Rating` and `Neighbourhood `. What is the $R^2$ and RMSE on the test set? What is the coefficient on `Review Scores Rating`? What is the most expensive kind of property you can rent?\n",
        "5. Split the sample 80/20 into a training and a test set. Run a regression of `Price` on `Review Scores Rating` and `Neighbourhood ` and `Property Type`. What is the $R^2$ and RMSE on the test set? What is the coefficient on `Review Scores Rating`? What is the most expensive kind of property you can rent?\n",
        "6. What does the coefficient on `Review Scores Rating` mean if it changes from part 4 to 5? Hint: Think about how multilple linear regression works.\n",
        "7. (Optional) We've included `Neighborhood ` and `Property Type` separately in the model. How do you interact them, so you can have \"A bedroom in Queens\" or \"A townhouse in Manhattan\". Split the sample 80/20 into a training and a test set and run a regression including that kind of \"property type X neighborhood\" dummy, plus `Review Scores Rating`. How does the slope coefficient for `Review Scores Rating`, the $R^2$, and the RMSE change? Do they increase significantly compares to part 5? Are the coefficients in this regression just the sum of the coefficients for `Neighbourhood ` and `Property Type` from 5? What is the most expensive kind of property you can rent?"
      ]
    },
    {
      "cell_type": "code",
      "source": [
        "import pandas as pd\n",
        "import numpy as np\n",
        "import matplotlib.pyplot as plt\n",
        "import seaborn as sns\n",
        "import statsmodels.api as sm\n",
        "\n",
        "df = pd.read_csv(\"/content/Q1_clean.csv\")\n",
        "\n",
        "df.head()\n",
        "print(df.columns.tolist())"
      ],
      "metadata": {
        "colab": {
          "base_uri": "https://localhost:8080/"
        },
        "id": "kNcDVfWPPJG9",
        "outputId": "ea8f44ba-f8b5-44c1-da04-0ef50bd49cbb"
      },
      "id": "kNcDVfWPPJG9",
      "execution_count": 10,
      "outputs": [
        {
          "output_type": "stream",
          "name": "stdout",
          "text": [
            "['Price', 'Review Scores Rating', 'Neighbourhood ', 'Property Type', 'Room Type']\n"
          ]
        }
      ]
    },
    {
      "cell_type": "code",
      "source": [
        "neighbourhood_avg = df.groupby('Neighbourhood ')['Price'].mean().sort_values(ascending=False)\n",
        "print(neighbourhood_avg)"
      ],
      "metadata": {
        "colab": {
          "base_uri": "https://localhost:8080/"
        },
        "id": "qR_w-ogkS5eH",
        "outputId": "183a06b4-2e66-4270-d5b6-870fef62537c"
      },
      "id": "qR_w-ogkS5eH",
      "execution_count": 11,
      "outputs": [
        {
          "output_type": "stream",
          "name": "stdout",
          "text": [
            "Neighbourhood \n",
            "Manhattan        183.664286\n",
            "Staten Island    146.166667\n",
            "Brooklyn         127.747378\n",
            "Queens            96.857233\n",
            "Bronx             75.276498\n",
            "Name: Price, dtype: float64\n"
          ]
        }
      ]
    },
    {
      "cell_type": "code",
      "source": [
        "df['log_price'] = np.log(df['Price'] + 1)"
      ],
      "metadata": {
        "id": "FY1PgPHSTWWn"
      },
      "id": "FY1PgPHSTWWn",
      "execution_count": 12,
      "outputs": []
    },
    {
      "cell_type": "code",
      "source": [
        "plt.figure(figsize=(10, 5))\n",
        "sns.kdeplot(data=df, x=\"Price\", hue=\"Neighbourhood \")\n",
        "plt.title(\"KDE of Price by Neighbourhood\")\n",
        "plt.show()"
      ],
      "metadata": {
        "colab": {
          "base_uri": "https://localhost:8080/",
          "height": 369
        },
        "id": "6nBJ8Qm8TXmW",
        "outputId": "cbb6556d-c56e-46a7-8d11-3bc5545cdec5"
      },
      "id": "6nBJ8Qm8TXmW",
      "execution_count": 13,
      "outputs": [
        {
          "output_type": "display_data",
          "data": {
            "text/plain": [
              "<Figure size 1000x500 with 1 Axes>"
            ],
            "image/png": "[encoded data removed]"
          },
          "metadata": {}
        }
      ]
    },
    {
      "cell_type": "code",
      "source": [
        "plt.figure(figsize=(10, 5))\n",
        "sns.kdeplot(data=df, x=\"log_price\", hue=\"Neighbourhood \")\n",
        "plt.title(\"KDE of Price by Neighbourhood\")\n",
        "plt.show()"
      ],
      "metadata": {
        "colab": {
          "base_uri": "https://localhost:8080/",
          "height": 380
        },
        "id": "zUTsMqW2TyHB",
        "outputId": "e8e35728-2998-438e-a9ac-31410efc4c07"
      },
      "id": "zUTsMqW2TyHB",
      "execution_count": 14,
      "outputs": [
        {
          "output_type": "display_data",
          "data": {
            "text/plain": [
              "<Figure size 1000x500 with 1 Axes>"
            ],
            "image/png": "[encoded data removed]"
          },
          "metadata": {}
        }
      ]
    },
    {
      "cell_type": "code",
      "source": [
        "dummies = pd.get_dummies(df['Neighbourhood '])\n",
        "\n",
        "X = dummies\n",
        "y = df['Price']\n",
        "\n",
        "model = sm.OLS(y, X).fit()\n",
        "print(model.summary())"
      ],
      "metadata": {
        "colab": {
          "base_uri": "https://localhost:8080/"
        },
        "id": "cPBxkXpNUak0",
        "outputId": "e533dc51-516c-442e-a7a2-65a603867f23"
      },
      "id": "cPBxkXpNUak0",
      "execution_count": 15,
      "outputs": [
        {
          "output_type": "stream",
          "name": "stdout",
          "text": [
            "                            OLS Regression Results                            \n",
            "==============================================================================\n",
            "Dep. Variable:                  Price   R-squared:                       0.046\n",
            "Model:                            OLS   Adj. R-squared:                  0.046\n",
            "Method:                 Least Squares   F-statistic:                     268.9\n",
            "Date:                Sun, 30 Mar 2025   Prob (F-statistic):          4.43e-226\n",
            "Time:                        03:19:03   Log-Likelihood:            -1.4174e+05\n",
            "No. Observations:               22153   AIC:                         2.835e+05\n",
            "Df Residuals:                   22148   BIC:                         2.835e+05\n",
            "Df Model:                           4                                         \n",
            "Covariance Type:            nonrobust                                         \n",
            "=================================================================================\n",
            "                    coef    std err          t      P>|t|      [0.025      0.975]\n",
            "---------------------------------------------------------------------------------\n",
            "Bronx            75.2765      9.868      7.628      0.000      55.934      94.619\n",
            "Brooklyn        127.7474      1.578     80.958      0.000     124.654     130.840\n",
            "Manhattan       183.6643      1.340    137.029      0.000     181.037     186.291\n",
            "Queens           96.8572      3.646     26.568      0.000      89.712     104.003\n",
            "Staten Island   146.1667     14.837      9.852      0.000     117.086     175.248\n",
            "==============================================================================\n",
            "Omnibus:                    51232.379   Durbin-Watson:                   1.734\n",
            "Prob(Omnibus):                  0.000   Jarque-Bera (JB):       1192144085.484\n",
            "Skew:                          22.206   Prob(JB):                         0.00\n",
            "Kurtosis:                    1138.591   Cond. No.                         11.1\n",
            "==============================================================================\n",
            "\n",
            "Notes:\n",
            "[1] Standard Errors assume that the covariance matrix of the errors is correctly specified.\n"
          ]
        }
      ]
    },
    {
      "cell_type": "markdown",
      "source": [
        "it looks like that the coefficient of each category is jsut the average price of this category!"
      ],
      "metadata": {
        "id": "xAzj6qDKobBI"
      },
      "id": "xAzj6qDKobBI"
    },
    {
      "cell_type": "code",
      "source": [
        "df.columns = df.columns.str.strip()\n",
        "\n",
        "df['Price'] = pd.to_numeric(df['Price'], errors='coerce')\n",
        "\n",
        "df = df.dropna(subset=['Price'])\n",
        "\n",
        "dummies = pd.get_dummies(df['Neighbourhood'], drop_first=True)\n",
        "\n",
        "dummies = dummies.astype(float)\n",
        "\n",
        "X = sm.add_constant(dummies).astype(float)\n",
        "y = df['Price'].astype(float)\n",
        "\n",
        "model = sm.OLS(y, X).fit()\n",
        "print(model.summary())\n"
      ],
      "metadata": {
        "colab": {
          "base_uri": "https://localhost:8080/"
        },
        "id": "sSPAHfCRno4r",
        "outputId": "fb71c901-1ee4-4e56-92d9-4919bd9b9d14"
      },
      "id": "sSPAHfCRno4r",
      "execution_count": 16,
      "outputs": [
        {
          "output_type": "stream",
          "name": "stdout",
          "text": [
            "                            OLS Regression Results                            \n",
            "==============================================================================\n",
            "Dep. Variable:                  Price   R-squared:                       0.046\n",
            "Model:                            OLS   Adj. R-squared:                  0.046\n",
            "Method:                 Least Squares   F-statistic:                     268.9\n",
            "Date:                Sun, 30 Mar 2025   Prob (F-statistic):          4.43e-226\n",
            "Time:                        03:19:05   Log-Likelihood:            -1.4174e+05\n",
            "No. Observations:               22153   AIC:                         2.835e+05\n",
            "Df Residuals:                   22148   BIC:                         2.835e+05\n",
            "Df Model:                           4                                         \n",
            "Covariance Type:            nonrobust                                         \n",
            "=================================================================================\n",
            "                    coef    std err          t      P>|t|      [0.025      0.975]\n",
            "---------------------------------------------------------------------------------\n",
            "const            75.2765      9.868      7.628      0.000      55.934      94.619\n",
            "Brooklyn         52.4709      9.994      5.250      0.000      32.883      72.059\n",
            "Manhattan       108.3878      9.959     10.884      0.000      88.868     127.908\n",
            "Queens           21.5807     10.520      2.051      0.040       0.960      42.201\n",
            "Staten Island    70.8902     17.819      3.978      0.000      35.964     105.816\n",
            "==============================================================================\n",
            "Omnibus:                    51232.379   Durbin-Watson:                   1.734\n",
            "Prob(Omnibus):                  0.000   Jarque-Bera (JB):       1192144085.484\n",
            "Skew:                          22.206   Prob(JB):                         0.00\n",
            "Kurtosis:                    1138.591   Cond. No.                         29.0\n",
            "==============================================================================\n",
            "\n",
            "Notes:\n",
            "[1] Standard Errors assume that the covariance matrix of the errors is correctly specified.\n"
          ]
        }
      ]
    },
    {
      "cell_type": "markdown",
      "source": [
        "It looks like the intercept is the mean of the reference group."
      ],
      "metadata": {
        "id": "MU17Dm25qqQF"
      },
      "id": "MU17Dm25qqQF"
    },
    {
      "cell_type": "code",
      "source": [
        "print(df.columns.tolist())"
      ],
      "metadata": {
        "colab": {
          "base_uri": "https://localhost:8080/"
        },
        "id": "3oPQrZMSryCA",
        "outputId": "bb1cbab6-533a-41c6-d089-0903afcd7cf9"
      },
      "id": "3oPQrZMSryCA",
      "execution_count": 17,
      "outputs": [
        {
          "output_type": "stream",
          "name": "stdout",
          "text": [
            "['Price', 'Review Scores Rating', 'Neighbourhood', 'Property Type', 'Room Type', 'log_price']\n"
          ]
        }
      ]
    },
    {
      "cell_type": "code",
      "source": [
        "from sklearn.model_selection import train_test_split\n",
        "from sklearn.metrics import r2_score, mean_squared_error\n",
        "import statsmodels.formula.api as smf\n",
        "\n",
        "df.columns = df.columns.str.strip()\n",
        "df['Review Scores Rating'] = pd.to_numeric(df['Review Scores Rating'], errors='coerce')\n",
        "df = df.dropna(subset=['Price', 'Review Scores Rating', 'Neighbourhood'])\n",
        "\n",
        "train, test = train_test_split(df, test_size=0.2, random_state=22)\n",
        "\n",
        "model = smf.ols('Price ~ Q(\"Review Scores Rating\") + C(Neighbourhood)', data=train).fit()\n",
        "print(model.summary())\n",
        "\n",
        "pred = model.predict(test)\n",
        "test_r2 = r2_score(test['Price'], pred)\n",
        "test_rmse = np.sqrt(mean_squared_error(test['Price'], pred))\n",
        "print(\"Test R²:\", test_r2)\n",
        "print(\"Test RMSE:\", test_rmse)"
      ],
      "metadata": {
        "colab": {
          "base_uri": "https://localhost:8080/"
        },
        "id": "iNOp1ypGq0xO",
        "outputId": "4322837a-7bce-478f-b207-85daa52f80a1"
      },
      "id": "iNOp1ypGq0xO",
      "execution_count": 18,
      "outputs": [
        {
          "output_type": "stream",
          "name": "stdout",
          "text": [
            "                            OLS Regression Results                            \n",
            "==============================================================================\n",
            "Dep. Variable:                  Price   R-squared:                       0.049\n",
            "Model:                            OLS   Adj. R-squared:                  0.049\n",
            "Method:                 Least Squares   F-statistic:                     182.8\n",
            "Date:                Sun, 30 Mar 2025   Prob (F-statistic):          2.08e-190\n",
            "Time:                        03:19:07   Log-Likelihood:            -1.1328e+05\n",
            "No. Observations:               17722   AIC:                         2.266e+05\n",
            "Df Residuals:                   17716   BIC:                         2.266e+05\n",
            "Df Model:                           5                                         \n",
            "Covariance Type:            nonrobust                                         \n",
            "=====================================================================================================\n",
            "                                        coef    std err          t      P>|t|      [0.025      0.975]\n",
            "-----------------------------------------------------------------------------------------------------\n",
            "Intercept                           -26.8584     15.741     -1.706      0.088     -57.713       3.996\n",
            "C(Neighbourhood)[T.Brooklyn]         53.0728     11.160      4.756      0.000      31.199      74.947\n",
            "C(Neighbourhood)[T.Manhattan]       108.1198     11.120      9.723      0.000      86.323     129.916\n",
            "C(Neighbourhood)[T.Queens]           23.3962     11.734      1.994      0.046       0.397      46.396\n",
            "C(Neighbourhood)[T.Staten Island]    84.7668     20.093      4.219      0.000      45.382     124.151\n",
            "Q(\"Review Scores Rating\")             1.0966      0.123      8.928      0.000       0.856       1.337\n",
            "==============================================================================\n",
            "Omnibus:                    42916.039   Durbin-Watson:                   1.995\n",
            "Prob(Omnibus):                  0.000   Jarque-Bera (JB):       1380159811.956\n",
            "Skew:                          24.818   Prob(JB):                         0.00\n",
            "Kurtosis:                    1369.242   Cond. No.                     2.28e+03\n",
            "==============================================================================\n",
            "\n",
            "Notes:\n",
            "[1] Standard Errors assume that the covariance matrix of the errors is correctly specified.\n",
            "[2] The condition number is large, 2.28e+03. This might indicate that there are\n",
            "strong multicollinearity or other numerical problems.\n",
            "Test R²: 0.05450129709050355\n",
            "Test RMSE: 147.19906718095697\n"
          ]
        }
      ]
    },
    {
      "cell_type": "markdown",
      "source": [
        "The model explains about 5% of price variation. The model is off for about 147 units for each prediciton. The most expesnive property is Manhatten."
      ],
      "metadata": {
        "id": "lr_aujI_taxA"
      },
      "id": "lr_aujI_taxA"
    },
    {
      "cell_type": "markdown",
      "source": [
        "The cofficient tells you how mcu hthe price changes for each increasae by 1 unit for the rating, if the other factors are constant. If we add neighberhood and the cofficient changes, it means that some of the effects we saw before was due to the difference between neighberhoods."
      ],
      "metadata": {
        "id": "GwmcxGU-uJrU"
      },
      "id": "GwmcxGU-uJrU"
    },
    {
      "cell_type": "markdown",
      "id": "95f22300-0180-4ed2-be8f-ed56cf4cd36b",
      "metadata": {
        "id": "95f22300-0180-4ed2-be8f-ed56cf4cd36b"
      },
      "source": [
        "**Q3.** This question is a case study for linear models. The data are about car prices. In particular, they include:\n",
        "\n",
        "  - `Price`, `Color`, `Seating_Capacity`\n",
        "  - `Body_Type`: crossover, hatchback, muv, sedan, suv\n",
        "  - `Make`, `Make_Year`: The brand of car and year produced\n",
        "  - `Mileage_Run`: The number of miles on the odometer\n",
        "  - `Fuel_Type`: Diesel or gasoline/petrol\n",
        "  - `Transmission`, `Transmission_Type`:  speeds and automatic/manual\n",
        "\n",
        "  1. Load `cars_hw.csv`. These data were really dirty, and I've already cleaned them a significant amount in terms of missing values and other issues, but some issues remain (e.g. outliers, badly scaled variables that require a log or arcsinh transformation). Clean the data however you think is most appropriate.\n",
        "  2. Summarize the `Price` variable and create a kernel density plot. Use `.groupby()` and `.describe()` to summarize prices by brand (`Make`). Make a grouped kernel density plot by `Make`. Which car brands are the most expensive? What do prices look like in general?\n",
        "  3. Split the data into an 80% training set and a 20% testing set.\n",
        "  4. Make a model where you regress price on the numeric variables alone; what is the $R^2$ and `RMSE` on the training set and test set? Make a second model where, for the categorical variables, you regress price on a model comprised of one-hot encoded regressors/features alone (you can use `pd.get_dummies()`; be careful of the dummy variable trap); what is the $R^2$ and `RMSE` on the test set? Which model performs better on the test set? Make a third model that combines all the regressors from the previous two; what is the $R^2$ and `RMSE` on the test set? Does the joint model perform better or worse, and by home much?\n",
        "  5. Use the `PolynomialFeatures` function from `sklearn` to expand the set of numerical variables you're using in the regression. As you increase the degree of the expansion, how do the $R^2$ and `RMSE` change? At what point does $R^2$ go negative on the test set? For your best model with expanded features, what is the $R^2$ and `RMSE`? How does it compare to your best model from part 4?\n",
        "  6. For your best model so far, determine the predicted values for the test data and plot them against the true values. Do the predicted values and true values roughly line up along the diagonal, or not? Compute the residuals/errors for the test data and create a kernel density plot. Do the residuals look roughly bell-shaped around zero? Evaluate the strengths and weaknesses of your model."
      ]
    },
    {
      "cell_type": "markdown",
      "id": "aedcd486",
      "metadata": {
        "id": "aedcd486"
      },
      "source": [
        "**Q4.** This question refers to the `heart_hw.csv` data. It contains three variables:\n",
        "\n",
        "  - `y`: Whether the individual survived for three years, coded 0 for death and 1 for survival\n",
        "  - `age`: Patient's age\n",
        "  - `transplant`: `control` for not receiving a transplant and `treatment` for receiving a transplant\n",
        "\n",
        "Since a heart transplant is a dangerous operation and even people who successfully get heart transplants might suffer later complications, we want to look at whether a group of transplant recipients tends to survive longer than a comparison group who does not get the procedure.\n",
        "\n",
        "1. Compute (a) the proportion of people who survive in the control group who do not receive a transplant, and (b) the difference between the proportion of people who survive in the treatment group and the proportion of people who survive in the control group. In a randomized controlled trial, this is called the **average treatment effect**.\n",
        "2. Regress `y` on `transplant` using a linear model with a constant. How does the constant/intercept of the regression and the coefficient on transplant compare to your answers from part 1? Explain the relationship clearly.\n",
        "3. We'd like to include `age` in the regression, since it's reasonable to expect that older patients are less likely to survive an extensive surgery like a heart transplant. Regress `y` on a constant, transplant, and age. How does the intercept change?\n",
        "4. Build a more flexible model that allows for non-linear age effects and interactions between age and treatment. Use a train-test split to validate your model. Estimate your best model, predict the survival probability by age, and plot your results conditional on receiving a transplant and not. Describe what you see.\n",
        "5. Imagine someone suggests using these kinds of models to select who receives organ transplants; perhaps the CDC or NIH starts using a scoring algorithm to decide who is contacted about a potential organ. What are your concerns about how it is built and how it is deployed?"
      ]
    },
    {
      "cell_type": "markdown",
      "id": "7bd15c6b-4c7c-4230-a199-e03e1054ec6a",
      "metadata": {
        "id": "7bd15c6b-4c7c-4230-a199-e03e1054ec6a"
      },
      "source": [
        "**Q5.** This is a question about linear regression. The outcome is whether a defendant is held pre-trial in the Virginia justice system. We would like to understand how that outcome is predicted by characteristics of the defendant, particularly race. Let's be very careful/clear: We aren't saying anyone *should* be held without bond or asserting that people with different demographic variables *should* be more likely to be held, but instead trying to predict whether people with different characteristics *are empirically more likely* to be held without bond, given the available information. This is the first step we would take in investigating whether a system is fair, or how large the disparities are: Does it treat people with similar observable characteristics similarly, or not? We are going to look at a common question: Are Black defendants treated differently from white or Asian ones? (There are Native American defendants, but there are 11 in total, which is such a small number of observations that is difficult to clearly say anything about how this group is treated relative to the others.)\n",
        "\n",
        "The variables in the data are:\n",
        "\n",
        "  - `held_wo_bail`: Whether a defendant is held without bail before trial (Boolean logical)\n",
        "  - `race`, `sex`: Categorical demographic variables\n",
        "  - `is_poor`: Whether the defendant is classified as indigent\n",
        "  - `prior_F`, `prior_M`: The number of prior felony and misdemeanor arrests\n",
        "  - `case_type`: A categorical variable indicating a misdemeanor `M` or felony `F` or infraction `I` or special case `S`\n",
        "  - `age`: Defendant's age\n",
        "  - `bond`, `bond_NA`, `bond_type`: The amount of any bond, whether it is missing, and the type\n",
        "  - `sentence`, `sentence_NA`, `sentence_type`: The length of any sentence, whether it is missing, and the type\n",
        "\n",
        "1. Load the `pretrial_data.csv` data. Notice that there are `nan`s, but the data are relatively clean. Because there are `.nan`s among variables you won't use, you'll want to narrow down your analysis to the relevant variables before dropping or imputing missing values.\n",
        "2. Create a dummy variable indicating that the defendant is Black.\n",
        "3. Regress `held` on `Black`. What is the slope coefficient Interpret the coefficient on the Black dummy variable: How much more likely is a black person to be held without bail? What is the $R^2$ of the model?\n",
        "4. Before doing this question, please think for a few minutes about how to make the process of running the following regressions as efficient as possible, before jumping into writing code. Repeat part 2, for the following specifications, keeping track of the coefficient on the Black dummy variable each time:\n",
        "      - `held` on `Black` and `sex`\n",
        "      - `held` on `Black` and `sex` and `is_poor`\n",
        "      - `held` on `Black` and `sex` and `is_poor` and `prior_F`\n",
        "      - `held` on `Black` and `sex` and `is_poor` and `prior_F` and `case_type`\n",
        "What happens to the coefficient on the Black dummy variable as you include more regressors/features/controls in the regression? Explain your findings.\n",
        "5. Suppose we don't want to see just `Black` and `sex`, but `Black` interacted with `sex`: Are Black men and Black women treated systemically differently from the rest of the population? Implement this in a regression, and explain your findings.\n",
        "6. Imagine someone argued we should use these kinds of models to help a judge or magistrate make bail decisions (you could obviously go back and make this kind of model for the bond and sentence variables, then deploy it on new cases to predict what their bond and sentence values would be). What concerns would you have? Do you think society should be using data-driven and automated tools like that? Explain your concerns clearly."
      ]
    },
    {
      "cell_type": "markdown",
      "id": "ca1cfba3",
      "metadata": {
        "vscode": {
          "languageId": "plaintext"
        },
        "id": "ca1cfba3"
      },
      "source": [
        "**Q6.** Let's explore multiple linear regression in a two-variable case, to build more intuition about what is happening.\n",
        "\n",
        "Suppose the model is\n",
        "$$\n",
        "\\hat{y}_i = b_0 + b_1 z_{i1} + b_2 z_{i2}\n",
        "$$\n",
        "Assume that $z_{ij}$ is centered or de-meaned, so that $z_{ij} = x_{ij} - m_j$ where $m_j$ is the mean of variable $j$ and $x_{ij}$ is the original value of variable $j$ for observation $i$. Notice that this implies\n",
        "$$\n",
        "\\dfrac{1}{N} \\sum_{i=1}^N z_{ij} = 0\n",
        "$$\n",
        "which will simplify your calculations below substantially!\n",
        "\n",
        "1. Write down the SSE for this model.\n",
        "2. Take partial derivatives with respect to $b_0$, $b_1$, and $b_2$.\n",
        "3. Verify that the average error is zero and $e \\cdot z =0$ at the optimum, just as in the single linear regression case.\n",
        "4. Show that the optimal intercept is $b_0^* = \\bar{y}$. Eliminate $b_0^*$ from the remaining equations, and focus on $b_1$ and $b_2$.\n",
        "5. Write your results as a matrix equation in the form \"$Ab=C$\". These are called the **normal equations**.\n",
        "6. Divide both sides by $N$ and substitute $z_{ij} = x_{ij} - m_j$ back into your normal equations for $x_{ij}$. What is the matrix $A$? What is the vector $C$? Explain the intuition of your discovery."
      ]
    },
    {
      "cell_type": "markdown",
      "id": "547d5828",
      "metadata": {
        "id": "547d5828"
      },
      "source": [
        "**Q7.** In class, we showed that for the single linear regression model,\n",
        "\\begin{alignat*}{3}\n",
        "a^* &=& \\bar{y} \\\\\n",
        "b^* &=& \\dfrac{\\sum_{i=1}^N(y_i - \\bar{y})(x_i-\\bar{x})}{\\sum_{i=1}^N (x_i-\\bar{x})^2},\n",
        "\\end{alignat*}\n",
        "\n",
        "1. When will $b^*$ be large or small, depending on the relationship between $X$ and $Y$ and the variance of $X$?\n",
        "2. Suppose you have measurement error in $X$ which artificially inflates its variance (e.g. bad data cleaning). We'll model this as saying the \"real\" value of $X$ for observation $i$ is $z_i$, but we observe $x_i = z_i + n_i$, where $n_i$ is the added noise. Does this affect the intercept of the regression? What happens to the $b^*$ coefficient relative to a noise-less model? How will affect your ability to predict? (This phenomenon is called **attenuation**.)\n",
        "3. Suppose the noise $n_i$ is independent of $z_i$ and $y_i$, so that (approximately)\n",
        "$$\n",
        "\\dfrac{1}{N} \\sum_{i=1}^N (y_i - \\bar{y})(n_i - \\bar{n}) =0, \\quad \\dfrac{1}{N} \\sum_{i=1}^N (z_i - \\bar{z})(n_i - \\bar{n}) =0.\n",
        "$$\n",
        "and that the mean of the bias is zero, so that\n",
        "$$\n",
        "\\dfrac{1}{N} \\sum_{i=1}^N n_i = 0.\n",
        "$$\n",
        "In this case, the noise $n_i$ is zero on average and independent of the values of $x_i$ and $y_i$: It's just measurement error or lazy data cleaning.\n",
        "Explain the intuition of your result.\n",
        "\n",
        "4. How does attenuation factor into the cost-benefit analysis of gathering higher quality data or cleaning it more carefully?"
      ]
    },
    {
      "cell_type": "markdown",
      "id": "b67478ac-ad78-4a44-9720-583c71b8da14",
      "metadata": {
        "id": "b67478ac-ad78-4a44-9720-583c71b8da14"
      },
      "source": [
        "**Q8.**\n",
        "1. Find a dataset on a topic you're interested in. Some easy options are data.gov, kaggle.com, and data.world.\n",
        "2. Clean the data and do some exploratory data analysis on key variables that interest you. Pick a particular target/outcome variable and features/predictors.\n",
        "3. Split the sample into an ~80% training set and a ~20% test set.\n",
        "4. Run a few regressions of your target/outcome variable on a variety of features/predictors. Compute the SSE on the test set.\n",
        "5. Which model performed the best, and why?\n",
        "6. What did you learn?"
      ]
    },
    {
      "cell_type": "code",
      "source": [
        "df_stocks = pd.read_csv(\"/content/finance_economics_dataset.csv\")\n",
        "df_stocks.columns = df_stocks.columns.str.strip()\n",
        "df_stocks.rename(columns={'GDP Growth (%)': 'GDP_Growth'}, inplace=True)\n",
        "df_stocks.rename(columns={'Close Price': 'Close_Price'}, inplace=True)\n",
        "df_stocks.rename(columns={'Interest Rate (%)': 'Interest_Rate'}, inplace=True)\n",
        "df_stocks.rename(columns={'Unemployment Rate (%)': 'Unemployment_Rate'}, inplace=True)\n",
        "df_stocks.rename(columns={'Trading Volume': 'Trading_Volume'}, inplace=True)\n",
        "print(df_stocks.head())\n",
        "print(df_stocks.columns.tolist())"
      ],
      "metadata": {
        "colab": {
          "base_uri": "https://localhost:8080/"
        },
        "id": "4sAEuNaPu0b7",
        "outputId": "d0b72696-4473-415d-94d1-654c4c7dafc3"
      },
      "id": "4sAEuNaPu0b7",
      "execution_count": 52,
      "outputs": [
        {
          "output_type": "stream",
          "name": "stdout",
          "text": [
            "         Date Stock Index  Open Price  Close_Price  Daily High  Daily Low  \\\n",
            "0  2000-01-01   Dow Jones     2128.75      2138.48     2143.70    2100.55   \n",
            "1  2000-01-02     S&P 500     2046.82      2036.18     2082.83    2009.53   \n",
            "2  2000-01-03   Dow Jones     1987.92      1985.26     2022.28    1978.37   \n",
            "3  2000-01-04   Dow Jones     4625.02      4660.47     4665.26    4595.46   \n",
            "4  2000-01-05     S&P 500     1998.18      1982.18     2044.31    1966.44   \n",
            "\n",
            "   Trading_Volume  GDP_Growth  Inflation Rate (%)  Unemployment_Rate  ...  \\\n",
            "0         2670411       -0.37                6.06               6.10  ...   \n",
            "1       690220415        3.19                4.95               6.62  ...   \n",
            "2       315284661        5.54                9.13               2.60  ...   \n",
            "3        13098297       10.00                3.77               2.20  ...   \n",
            "4       385306746        1.53                2.20               8.20  ...   \n",
            "\n",
            "   Forex USD/EUR  Forex USD/JPY  Crude Oil Price (USD per Barrel)  \\\n",
            "0           1.04         119.87                             47.20   \n",
            "1           1.00          98.22                             52.84   \n",
            "2           0.83          80.13                             78.80   \n",
            "3           0.95         149.15                             28.18   \n",
            "4           1.43         113.71                             92.20   \n",
            "\n",
            "   Gold Price (USD per Ounce)  Real Estate Index  Retail Sales (Billion USD)  \\\n",
            "0                     1052.34             390.23                        2229   \n",
            "1                     1957.73             346.23                        4156   \n",
            "2                     2339.49             439.46                         340   \n",
            "3                     1308.54             213.07                        8456   \n",
            "4                     2210.08             405.49                        1596   \n",
            "\n",
            "   Bankruptcy Rate (%)  Mergers & Acquisitions Deals  \\\n",
            "0                 2.12                             3   \n",
            "1                 1.40                            21   \n",
            "2                 0.79                            48   \n",
            "3                 4.22                            16   \n",
            "4                 2.21                            34   \n",
            "\n",
            "   Venture Capital Funding (Billion USD)  Consumer Spending (Billion USD)  \n",
            "0                                  76.64                             4589  \n",
            "1                                   5.67                            10101  \n",
            "2                                  39.43                            13665  \n",
            "3                                  12.83                             5192  \n",
            "4                                  86.37                            10688  \n",
            "\n",
            "[5 rows x 24 columns]\n",
            "['Date', 'Stock Index', 'Open Price', 'Close_Price', 'Daily High', 'Daily Low', 'Trading_Volume', 'GDP_Growth', 'Inflation Rate (%)', 'Unemployment_Rate', 'Interest_Rate', 'Consumer Confidence Index', 'Government Debt (Billion USD)', 'Corporate Profits (Billion USD)', 'Forex USD/EUR', 'Forex USD/JPY', 'Crude Oil Price (USD per Barrel)', 'Gold Price (USD per Ounce)', 'Real Estate Index', 'Retail Sales (Billion USD)', 'Bankruptcy Rate (%)', 'Mergers & Acquisitions Deals', 'Venture Capital Funding (Billion USD)', 'Consumer Spending (Billion USD)']\n"
          ]
        }
      ]
    },
    {
      "cell_type": "code",
      "source": [
        "train, test = train_test_split(df_stocks, test_size=0.2, random_state=22)\n",
        "\n",
        "model1 = smf.ols(\"GDP_Growth ~ Q('Trading_Volume')\", data=train).fit()\n",
        "pred1 = model2.predict(test)\n",
        "sse1 = np.sum((test[\"Close_Price\"] - pred1) ** 2)\n",
        "print(\"Model 1 SSE:\", sse1)\n"
      ],
      "metadata": {
        "colab": {
          "base_uri": "https://localhost:8080/"
        },
        "id": "ySqUF1yNDg1c",
        "outputId": "7ec5f1f3-adde-4d14-fc7b-6896de0a8aab"
      },
      "id": "ySqUF1yNDg1c",
      "execution_count": 58,
      "outputs": [
        {
          "output_type": "stream",
          "name": "stdout",
          "text": [
            "Model 1 SSE: 6133903329.690169\n"
          ]
        }
      ]
    },
    {
      "cell_type": "code",
      "source": [
        "train, test = train_test_split(df_stocks, test_size=0.2, random_state=22)\n",
        "\n",
        "model2 = smf.ols(\"GDP_Growth ~ Trading_Volume + Interest_Rate\", data=train).fit()\n",
        "pred2 = model2.predict(test)\n",
        "sse2 = np.sum((test[\"Close_Price\"] - pred2) ** 2)\n",
        "print(\"Model 2 SSE:\", sse2)\n"
      ],
      "metadata": {
        "colab": {
          "base_uri": "https://localhost:8080/"
        },
        "id": "zjGpl6oIF8MU",
        "outputId": "8fb39f29-8435-4757-a287-0bb001b9f265"
      },
      "id": "zjGpl6oIF8MU",
      "execution_count": 59,
      "outputs": [
        {
          "output_type": "stream",
          "name": "stdout",
          "text": [
            "Model 2 SSE: 6133903329.690169\n"
          ]
        }
      ]
    },
    {
      "cell_type": "code",
      "source": [
        "train, test = train_test_split(df_stocks, test_size=0.2, random_state=22)\n",
        "model3 = smf.ols(\"GDP_Growth ~ Trading_Volume + Interest_Rate + Unemployment_Rate\", data=train).fit()\n",
        "pred3 = model3.predict(test)\n",
        "sse3 = np.sum((test[\"Close_Price\"] - pred3) ** 2)\n",
        "print(\"Model 3 SSE:\", sse3)"
      ],
      "metadata": {
        "colab": {
          "base_uri": "https://localhost:8080/"
        },
        "id": "WIPgTo49HVAQ",
        "outputId": "e54012e9-8419-4768-cb6f-8a23e0b71782"
      },
      "id": "WIPgTo49HVAQ",
      "execution_count": 60,
      "outputs": [
        {
          "output_type": "stream",
          "name": "stdout",
          "text": [
            "Model 3 SSE: 6133901360.375438\n"
          ]
        }
      ]
    },
    {
      "cell_type": "markdown",
      "source": [
        "They all perfomed equally bad, I guess the third model scored the \"best\". I think my main takeaway from this question is, a regression model might not always be the best solution. Before i do any ML model i should always ask myself is this the best approach to solve the mdoel? Another important thing i learned was, that more features/predictors might not always give an better outcome!"
      ],
      "metadata": {
        "id": "XlcXKqGvIT0K"
      },
      "id": "XlcXKqGvIT0K"
    },
    {
      "cell_type": "markdown",
      "source": [],
      "metadata": {
        "id": "aaj6E4dfHxFP"
      },
      "id": "aaj6E4dfHxFP"
    },
    {
      "cell_type": "markdown",
      "id": "fcf48562",
      "metadata": {
        "id": "fcf48562"
      },
      "source": [
        "**Q9.** There is a folder called `heart_failure` which contains reasonably detailed health data on patients and whether they die of congestive heart failure.\n",
        "\n",
        "1. Load the data and perform an 80/20-train/test split.\n",
        "2. Using dummy/one-hot-encoded variables and transformations of the numeric features, build the best model you can. **But**, do not delete code chunks or revise your work substantially as you experiment. Just keep moving forward with your ideas and experiments.\n",
        "3. When you're done, scroll through your notebook. What worked and what didn't? Does your code have intention, or are you randomly experimenting? If you had to do this again, what might you do differently to get to a good model faster?\n"
      ]
    },
    {
      "cell_type": "markdown",
      "id": "0125d03b",
      "metadata": {
        "vscode": {
          "languageId": "plaintext"
        },
        "id": "0125d03b"
      },
      "source": [
        "**Q10.** Let's look at a cousin of Linear Regression, called **kernel regression** or **local constant least squares** or **Nadaraya-Watson Estimator**.\n",
        "\n",
        "We derived the OLS estimator for single linear regression by minimizing\n",
        "$$\n",
        "SSE(b_0, b_1) = \\frac{1}{N}\\sum_{i=1}^N (y_i - b_0 - b_1 x_i)^2\n",
        "$$\n",
        "with solution\n",
        "$$\n",
        "\\hat{b}_0 = \\bar{y} - \\hat{b}_1 \\bar{x}, \\quad \\hat{b}_1 = \\dfrac{\\frac{1}{N} \\sum_{i=1}^N (x_i-\\bar{x})(y_i - \\bar{y})}{s_x^2}.\n",
        "$$\n",
        "\n",
        "When you step back and think about it, this is a bit weird: The algorithm is computing sample means, variances, and covariances, and using those to create a predictive model. The data themselves arguably vanish from the solution. This is elegant, this is strange.\n",
        "\n",
        "Instead, let $k(z)$ be a kernel function, such as the Gaussian\n",
        "$$\n",
        "k(z) = \\frac{1}{\\sqrt{2\\pi}} e^{-z^2/2}\n",
        "$$\n",
        "or uniform\n",
        "$$\n",
        "k(z) = \\begin{cases}\n",
        "1/2, & |z| \\le \\frac{1}{2}\\\\\n",
        "0, & \\text{otherwise.}\n",
        "\\end{cases}\n",
        "$$\n",
        "We'll instead minimize, or each predictor value $x$,\n",
        "$$\n",
        "SSE(\\hat{y}(x)) = \\dfrac{1}{N} \\sum_{i=1}^N \\left\\lbrace y_i - \\hat{y}(x)\\right\\rbrace^2 \\dfrac{1}{h} k \\left( \\dfrac{x-x_i}{h} \\right).\n",
        "$$\n",
        "\n",
        "1. Show that the optimal predictor is\n",
        "$$\n",
        "\\hat{y}(x) = \\dfrac{ \\frac{1}{Nh} \\sum_{i=1}^N  y_i k \\left( \\dfrac{x-x_i}{h} \\right) }{\\frac{1}{Nh} \\sum_{i=1}^N k \\left(  \\dfrac{x-x_i}{h} \\right)}\n",
        "$$\n",
        "This has many names, but let's call it the local constant least squares (LCLS) estimator, as opposed to ordinary least squares (OLS).\n",
        "\n",
        "2. Compare and contrast LCLS with both OLS and $k$-Nearest Neighbor as a regression algorithm.\n",
        "\n",
        "3. Write a function or class that implements the LCLS estimator for a single predictor variable $x$. For a default bandwidth $h$, you can use the maximum of the Silverman plug-ins for estimating kernel densities for $X$ and $Y$:\n",
        "$$\n",
        "h_y = 1.06 \\times s_y^{-1/5}, \\quad h_x = 1.06 \\times s_x^{-1/5},\n",
        "$$\n",
        "$$\n",
        "h = \\max \\{ h_y, h_x \\}.\n",
        "$$\n",
        "For the kernel, you can hard-code the uniform, Gaussian, or Epanechnikov, or make it a parameter the user can adjust with a default choice.\n",
        "\n",
        "4. For one of the datasets available for the homework, use your LCLS estimator from part 3 to predict values $\\hat{y}(x_i)$ for each datapoint $x_i$. Plot your estimator $\\hat{y}$ as a line over a scatterplot of the data $\\{(x_i,y_i)\\}_{i=1}^N$. Tune the bandwidth until you\n",
        "\n",
        "5. Conceptually, how would you extend this analysis to a vector of predictors, $x = (x_1, ..., x_L)$ instead of just one explanatory variable $x$?\n"
      ]
    }
  ],
  "metadata": {
    "colab": {
      "provenance": []
    },
    "kernelspec": {
      "display_name": "Python 3 (ipykernel)",
      "language": "python",
      "name": "python3"
    },
    "language_info": {
      "codemirror_mode": {
        "name": "ipython",
        "version": 3
      },
      "file_extension": ".py",
      "mimetype": "text/x-python",
      "name": "python",
      "nbconvert_exporter": "python",
      "pygments_lexer": "ipython3",
      "version": "3.12.2"
    }
  },
  "nbformat": 4,
  "nbformat_minor": 5
}